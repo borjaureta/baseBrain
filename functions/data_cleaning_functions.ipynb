{
 "cells": [
  {
   "cell_type": "code",
   "execution_count": 5,
   "metadata": {},
   "outputs": [],
   "source": [
    "import pandas as pd\n",
    "import numpy as np"
   ]
  },
  {
   "cell_type": "markdown",
   "metadata": {},
   "source": [
    "# Function to create a new column based on a condition"
   ]
  },
  {
   "cell_type": "markdown",
   "metadata": {},
   "source": [
    "Form:\n",
    "+ df['column_name'] = np.where(condition, value_if_true, value_if_false)\n",
    "+ https://numpy.org/doc/stable/reference/generated/numpy.where.html"
   ]
  },
  {
   "cell_type": "code",
   "execution_count": 6,
   "metadata": {},
   "outputs": [],
   "source": [
    "df = pd.DataFrame({'id' : ['02_21_21', '2|21|21'], 'num' : [1, 2]})\n",
    "df['source'] = np.where(df.id.str.contains('_'), 'source1', 'source2')"
   ]
  },
  {
   "cell_type": "markdown",
   "metadata": {},
   "source": [
    "# Group by with aggregation that gets sum, size and quotient"
   ]
  },
  {
   "cell_type": "code",
   "execution_count": null,
   "metadata": {},
   "outputs": [],
   "source": [
    "df.groupby(['contractStartYear'])['siniestro_yn'].agg([np.sum, np.size, lambda x: round(np.sum(x) / np.size(x) * 100,2)])"
   ]
  }
 ],
 "metadata": {
  "interpreter": {
   "hash": "c9a563c2fdbb96c8ba126ea9c65f371b7209565f26d4962165bb521ae7b7c999"
  },
  "kernelspec": {
   "display_name": "Python 3.10.0 ('kba_dev22')",
   "language": "python",
   "name": "python3"
  },
  "language_info": {
   "codemirror_mode": {
    "name": "ipython",
    "version": 3
   },
   "file_extension": ".py",
   "mimetype": "text/x-python",
   "name": "python",
   "nbconvert_exporter": "python",
   "pygments_lexer": "ipython3",
   "version": "3.10.0"
  },
  "orig_nbformat": 4
 },
 "nbformat": 4,
 "nbformat_minor": 2
}
